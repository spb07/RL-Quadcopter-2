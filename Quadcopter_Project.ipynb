{
 "cells": [
  {
   "cell_type": "markdown",
   "metadata": {
    "deletable": true,
    "editable": true
   },
   "source": [
    "# Project: Train a Quadcopter How to Fly\n",
    "\n",
    "Design an agent to fly a quadcopter, and then train it using a reinforcement learning algorithm of your choice! \n",
    "\n",
    "Try to apply the techniques you have learnt, but also feel free to come up with innovative ideas and test them."
   ]
  },
  {
   "cell_type": "markdown",
   "metadata": {
    "deletable": true,
    "editable": true
   },
   "source": [
    "## Instructions\n",
    "\n",
    "Take a look at the files in the directory to better understand the structure of the project. \n",
    "\n",
    "- `task.py`: Define your task (environment) in this file.\n",
    "- `agents/`: Folder containing reinforcement learning agents.\n",
    "    - `policy_search.py`: A sample agent has been provided here.\n",
    "    - `agent.py`: Develop your agent here.\n",
    "- `physics_sim.py`: This file contains the simulator for the quadcopter.  **DO NOT MODIFY THIS FILE**.\n",
    "\n",
    "For this project, you will define your own task in `task.py`.  Although we have provided a example task to get you started, you are encouraged to change it.  Later in this notebook, you will learn more about how to amend this file.\n",
    "\n",
    "You will also design a reinforcement learning agent in `agent.py` to complete your chosen task.  \n",
    "\n",
    "You are welcome to create any additional files to help you to organize your code.  For instance, you may find it useful to define a `model.py` file defining any needed neural network architectures.\n",
    "\n",
    "## Controlling the Quadcopter\n",
    "\n",
    "We provide a sample agent in the code cell below to show you how to use the sim to control the quadcopter.  This agent is even simpler than the sample agent that you'll examine (in `agents/policy_search.py`) later in this notebook!\n",
    "\n",
    "The agent controls the quadcopter by setting the revolutions per second on each of its four rotors.  The provided agent in the `Basic_Agent` class below always selects a random action for each of the four rotors.  These four speeds are returned by the `act` method as a list of four floating-point numbers.  \n",
    "\n",
    "For this project, the agent that you will implement in `agents/agent.py` will have a far more intelligent method for selecting actions!"
   ]
  },
  {
   "cell_type": "code",
   "execution_count": null,
   "metadata": {
    "collapsed": true,
    "deletable": true,
    "editable": true
   },
   "outputs": [],
   "source": [
    "import random\n",
    "\n",
    "class Basic_Agent():\n",
    "    def __init__(self, task):\n",
    "        self.task = task\n",
    "    \n",
    "    def act(self):\n",
    "        new_thrust = random.gauss(450., 25.)\n",
    "        return [new_thrust + random.gauss(0., 1.) for x in range(4)]"
   ]
  },
  {
   "cell_type": "markdown",
   "metadata": {
    "deletable": true,
    "editable": true
   },
   "source": [
    "Run the code cell below to have the agent select actions to control the quadcopter.  \n",
    "\n",
    "Feel free to change the provided values of `runtime`, `init_pose`, `init_velocities`, and `init_angle_velocities` below to change the starting conditions of the quadcopter.\n",
    "\n",
    "The `labels` list below annotates statistics that are saved while running the simulation.  All of this information is saved in a text file `data.txt` and stored in the dictionary `results`.  "
   ]
  },
  {
   "cell_type": "code",
   "execution_count": null,
   "metadata": {
    "collapsed": false,
    "deletable": true,
    "editable": true
   },
   "outputs": [],
   "source": [
    "%load_ext autoreload\n",
    "%autoreload 2\n",
    "\n",
    "import csv\n",
    "import numpy as np\n",
    "from task import Task\n",
    "\n",
    "# Modify the values below to give the quadcopter a different starting position.\n",
    "runtime = 5.                                     # time limit of the episode\n",
    "init_pose = np.array([0., 0., 10., 0., 0., 0.])  # initial pose\n",
    "init_velocities = np.array([0., 0., 0.])         # initial velocities\n",
    "init_angle_velocities = np.array([0., 0., 0.])   # initial angle velocities\n",
    "file_output = 'data.txt'                         # file name for saved results\n",
    "\n",
    "# Setup\n",
    "task = Task(init_pose, init_velocities, init_angle_velocities, runtime)\n",
    "agent = Basic_Agent(task)\n",
    "done = False\n",
    "labels = ['time', 'x', 'y', 'z', 'phi', 'theta', 'psi', 'x_velocity',\n",
    "          'y_velocity', 'z_velocity', 'phi_velocity', 'theta_velocity',\n",
    "          'psi_velocity', 'rotor_speed1', 'rotor_speed2', 'rotor_speed3', 'rotor_speed4']\n",
    "results = {x : [] for x in labels}\n",
    "print('Results: ', results)\n",
    "\n",
    "# Run the simulation, and save the results.\n",
    "with open(file_output, 'w') as csvfile:\n",
    "    writer = csv.writer(csvfile)\n",
    "    writer.writerow(labels)\n",
    "    while True:\n",
    "        rotor_speeds = agent.act()\n",
    "        _, _, done = task.step(rotor_speeds)\n",
    "        to_write = [task.sim.time] + list(task.sim.pose) + list(task.sim.v) + list(task.sim.angular_v) + list(rotor_speeds)\n",
    "        for ii in range(len(labels)):\n",
    "            results[labels[ii]].append(to_write[ii])\n",
    "        writer.writerow(to_write)\n",
    "        if done:\n",
    "            break"
   ]
  },
  {
   "cell_type": "markdown",
   "metadata": {
    "deletable": true,
    "editable": true
   },
   "source": [
    "Run the code cell below to visualize how the position of the quadcopter evolved during the simulation."
   ]
  },
  {
   "cell_type": "code",
   "execution_count": null,
   "metadata": {
    "collapsed": false,
    "deletable": true,
    "editable": true
   },
   "outputs": [],
   "source": [
    "import matplotlib.pyplot as plt\n",
    "%matplotlib inline\n",
    "\n",
    "plt.plot(results['time'], results['x'], label='x')\n",
    "plt.plot(results['time'], results['y'], label='y')\n",
    "plt.plot(results['time'], results['z'], label='z')\n",
    "plt.legend()\n",
    "_ = plt.ylim()"
   ]
  },
  {
   "cell_type": "markdown",
   "metadata": {
    "deletable": true,
    "editable": true
   },
   "source": [
    "The next code cell visualizes the velocity of the quadcopter."
   ]
  },
  {
   "cell_type": "code",
   "execution_count": null,
   "metadata": {
    "collapsed": false,
    "deletable": true,
    "editable": true
   },
   "outputs": [],
   "source": [
    "plt.plot(results['time'], results['x_velocity'], label='x_hat')\n",
    "plt.plot(results['time'], results['y_velocity'], label='y_hat')\n",
    "plt.plot(results['time'], results['z_velocity'], label='z_hat')\n",
    "plt.legend()\n",
    "_ = plt.ylim()"
   ]
  },
  {
   "cell_type": "markdown",
   "metadata": {
    "deletable": true,
    "editable": true
   },
   "source": [
    "Next, you can plot the Euler angles (the rotation of the quadcopter over the $x$-, $y$-, and $z$-axes),"
   ]
  },
  {
   "cell_type": "code",
   "execution_count": null,
   "metadata": {
    "collapsed": false,
    "deletable": true,
    "editable": true
   },
   "outputs": [],
   "source": [
    "plt.plot(results['time'], results['phi'], label='phi')\n",
    "plt.plot(results['time'], results['theta'], label='theta')\n",
    "plt.plot(results['time'], results['psi'], label='psi')\n",
    "plt.legend()\n",
    "_ = plt.ylim()"
   ]
  },
  {
   "cell_type": "markdown",
   "metadata": {
    "deletable": true,
    "editable": true
   },
   "source": [
    "before plotting the velocities (in radians per second) corresponding to each of the Euler angles."
   ]
  },
  {
   "cell_type": "code",
   "execution_count": null,
   "metadata": {
    "collapsed": false,
    "deletable": true,
    "editable": true
   },
   "outputs": [],
   "source": [
    "plt.plot(results['time'], results['phi_velocity'], label='phi_velocity')\n",
    "plt.plot(results['time'], results['theta_velocity'], label='theta_velocity')\n",
    "plt.plot(results['time'], results['psi_velocity'], label='psi_velocity')\n",
    "plt.legend()\n",
    "_ = plt.ylim()"
   ]
  },
  {
   "cell_type": "markdown",
   "metadata": {
    "deletable": true,
    "editable": true
   },
   "source": [
    "Finally, you can use the code cell below to print the agent's choice of actions.  "
   ]
  },
  {
   "cell_type": "code",
   "execution_count": null,
   "metadata": {
    "collapsed": false,
    "deletable": true,
    "editable": true
   },
   "outputs": [],
   "source": [
    "plt.plot(results['time'], results['rotor_speed1'], label='Rotor 1 revolutions / second')\n",
    "plt.plot(results['time'], results['rotor_speed2'], label='Rotor 2 revolutions / second')\n",
    "plt.plot(results['time'], results['rotor_speed3'], label='Rotor 3 revolutions / second')\n",
    "plt.plot(results['time'], results['rotor_speed4'], label='Rotor 4 revolutions / second')\n",
    "plt.legend()\n",
    "_ = plt.ylim()"
   ]
  },
  {
   "cell_type": "markdown",
   "metadata": {
    "deletable": true,
    "editable": true
   },
   "source": [
    "When specifying a task, you will derive the environment state from the simulator.  Run the code cell below to print the values of the following variables at the end of the simulation:\n",
    "- `task.sim.pose` (the position of the quadcopter in ($x,y,z$) dimensions and the Euler angles),\n",
    "- `task.sim.v` (the velocity of the quadcopter in ($x,y,z$) dimensions), and\n",
    "- `task.sim.angular_v` (radians/second for each of the three Euler angles)."
   ]
  },
  {
   "cell_type": "code",
   "execution_count": null,
   "metadata": {
    "collapsed": false,
    "deletable": true,
    "editable": true
   },
   "outputs": [],
   "source": [
    "# the pose, velocity, and angular velocity of the quadcopter at the end of the episode\n",
    "print(task.sim.pose)\n",
    "print(task.sim.v)\n",
    "print(task.sim.angular_v)"
   ]
  },
  {
   "cell_type": "markdown",
   "metadata": {
    "deletable": true,
    "editable": true
   },
   "source": [
    "In the sample task in `task.py`, we use the 6-dimensional pose of the quadcopter to construct the state of the environment at each timestep.  However, when amending the task for your purposes, you are welcome to expand the size of the state vector by including the velocity information.  You can use any combination of the pose, velocity, and angular velocity - feel free to tinker here, and construct the state to suit your task.\n",
    "\n",
    "## The Task\n",
    "\n",
    "A sample task has been provided for you in `task.py`.  Open this file in a new window now. \n",
    "\n",
    "The `__init__()` method is used to initialize several variables that are needed to specify the task.  \n",
    "- The simulator is initialized as an instance of the `PhysicsSim` class (from `physics_sim.py`).  \n",
    "- Inspired by the methodology in the original DDPG paper, we make use of action repeats.  For each timestep of the agent, we step the simulation `action_repeats` timesteps.  If you are not familiar with action repeats, please read the **Results** section in [the DDPG paper](https://arxiv.org/abs/1509.02971).\n",
    "- We set the number of elements in the state vector.  For the sample task, we only work with the 6-dimensional pose information.  To set the size of the state (`state_size`), we must take action repeats into account.  \n",
    "- The environment will always have a 4-dimensional action space, with one entry for each rotor (`action_size=4`). You can set the minimum (`action_low`) and maximum (`action_high`) values of each entry here.\n",
    "- The sample task in this provided file is for the agent to reach a target position.  We specify that target position as a variable.\n",
    "\n",
    "The `reset()` method resets the simulator.  The agent should call this method every time the episode ends.  You can see an example of this in the code cell below.\n",
    "\n",
    "The `step()` method is perhaps the most important.  It accepts the agent's choice of action `rotor_speeds`, which is used to prepare the next state to pass on to the agent.  Then, the reward is computed from `get_reward()`.  The episode is considered done if the time limit has been exceeded, or the quadcopter has travelled outside of the bounds of the simulation.\n",
    "\n",
    "In the next section, you will learn how to test the performance of an agent on this task."
   ]
  },
  {
   "cell_type": "markdown",
   "metadata": {
    "deletable": true,
    "editable": true
   },
   "source": [
    "## The Agent\n",
    "\n",
    "The sample agent given in `agents/policy_search.py` uses a very simplistic linear policy to directly compute the action vector as a dot product of the state vector and a matrix of weights. Then, it randomly perturbs the parameters by adding some Gaussian noise, to produce a different policy. Based on the average reward obtained in each episode (`score`), it keeps track of the best set of parameters found so far, how the score is changing, and accordingly tweaks a scaling factor to widen or tighten the noise.\n",
    "\n",
    "Run the code cell below to see how the agent performs on the sample task."
   ]
  },
  {
   "cell_type": "code",
   "execution_count": null,
   "metadata": {
    "collapsed": false,
    "deletable": true,
    "editable": true
   },
   "outputs": [],
   "source": [
    "import numpy as np\n",
    "a=np.array([1,2., 3.])\n",
    "b=np.array([0., 0., 5.])\n",
    "rew=(abs(a - b)).sum()\n",
    "print(rew)"
   ]
  },
  {
   "cell_type": "code",
   "execution_count": null,
   "metadata": {
    "collapsed": false,
    "deletable": true,
    "editable": true
   },
   "outputs": [],
   "source": [
    "import numpy as np\n",
    "w = np.random.normal(\n",
    "            size=(6, 4),  # weights for simple linear policy: state_space x action_space\n",
    "            scale=(900 / (2 * 6))) # start producing actions in a decent range\n",
    "state= np.array([0.0, 0.0, 10.0, 0.0, 0.0, 0.0])\n",
    "action = np.dot(state, w) \n",
    "print(w)\n",
    "print(action)"
   ]
  },
  {
   "cell_type": "code",
   "execution_count": null,
   "metadata": {
    "collapsed": false,
    "deletable": true,
    "editable": true
   },
   "outputs": [],
   "source": [
    "import sys\n",
    "import pandas as pd\n",
    "from agents.policy_search import PolicySearch_Agent\n",
    "from task import Task\n",
    "\n",
    "num_episodes = 1000\n",
    "target_pos = np.array([0., 0., 10.])\n",
    "task = Task(target_pos=target_pos)\n",
    "agent = PolicySearch_Agent(task) \n",
    "\n",
    "for i_episode in range(1, num_episodes+1):\n",
    "    state = agent.reset_episode() # start a new episode\n",
    "    while True:\n",
    "        action = agent.act(state) \n",
    "        next_state, reward, done = task.step(action)\n",
    "        agent.step(reward, done)\n",
    "        state = next_state\n",
    "        if done:\n",
    "            print(\"\\rEpisode = {:4d}, score = {:7.3f} (best = {:7.3f}), noise_scale = {}\".format(\n",
    "                i_episode, agent.score, agent.best_score, agent.noise_scale), end=\"\")  # [debug]\n",
    "            break\n",
    "    sys.stdout.flush()"
   ]
  },
  {
   "cell_type": "markdown",
   "metadata": {
    "deletable": true,
    "editable": true
   },
   "source": [
    "This agent should perform very poorly on this task.  And that's where you come in!"
   ]
  },
  {
   "cell_type": "markdown",
   "metadata": {
    "collapsed": true,
    "deletable": true,
    "editable": true
   },
   "source": [
    "## Define the Task, Design the Agent, and Train Your Agent!\n",
    "\n",
    "Amend `task.py` to specify a task of your choosing.  If you're unsure what kind of task to specify, you may like to teach your quadcopter to takeoff, hover in place, land softly, or reach a target pose.  \n",
    "\n",
    "After specifying your task, use the sample agent in `agents/policy_search.py` as a template to define your own agent in `agents/agent.py`.  You can borrow whatever you need from the sample agent, including ideas on how you might modularize your code (using helper methods like `act()`, `learn()`, `reset_episode()`, etc.).\n",
    "\n",
    "Note that it is **highly unlikely** that the first agent and task that you specify will learn well.  You will likely have to tweak various hyperparameters and the reward function for your task until you arrive at reasonably good behavior.\n",
    "\n",
    "As you develop your agent, it's important to keep an eye on how it's performing. Use the code above as inspiration to build in a mechanism to log/save the total rewards obtained in each episode to file.  If the episode rewards are gradually increasing, this is an indication that your agent is learning."
   ]
  },
  {
   "cell_type": "markdown",
   "metadata": {
    "collapsed": true,
    "deletable": true,
    "editable": true
   },
   "source": [
    "## Hyperparameters"
   ]
  },
  {
   "cell_type": "code",
   "execution_count": 4,
   "metadata": {
    "collapsed": true,
    "deletable": true,
    "editable": true
   },
   "outputs": [],
   "source": [
    "# Simulation parameters\n",
    "num_episodes = 50        # max number of episodes to learn from\n",
    "run = 5.                  # time limit of the episode\n",
    "explore =10000            #number of iterations for which noise is applied\n",
    "epsilon = 1               #used to decay noise\n",
    "\n",
    "# Algorithm parameters\n",
    "gamma = 0.99                   # future reward discount\n",
    "tau = 0.001                     # for soft update of target parameters\n",
    "\n",
    "# Memory parameters\n",
    "buffer_size = 10000            # memory capacity\n",
    "batch_size = 32          # experience mini-batch size\n"
   ]
  },
  {
   "cell_type": "markdown",
   "metadata": {
    "collapsed": true,
    "deletable": true,
    "editable": true
   },
   "source": [
    "## DDPG Agent Training for TakeOff task (Actor-Critic)"
   ]
  },
  {
   "cell_type": "code",
   "execution_count": 5,
   "metadata": {
    "collapsed": false,
    "deletable": true,
    "editable": true
   },
   "outputs": [
    {
     "name": "stdout",
     "output_type": "stream",
     "text": [
      "Episode in progress:  1\n",
      "Ending position for episode : [ 0.          0.         84.63148187]\n",
      "Ending speed for episode : [ 0.          0.         28.16478697]\n",
      "\n",
      " Episode end Episode =    1, Time =   5.040 totalscore = -128.095  score =  -0.508 (best =  -0.508 in Episode    1 ) \n",
      "Episode in progress:  2\n",
      "Ending position for episode : [ 0.          0.         77.16600533]\n",
      "Ending speed for episode : [0.         0.         4.02016008]\n",
      "\n",
      " Episode end Episode =    2, Time =   5.040 totalscore = -163.593  score =  -0.649 (best =  -0.508 in Episode    1 ) \n",
      "Episode in progress:  3\n",
      "Ending position for episode : [0.         0.         1.45129218]\n",
      "Ending speed for episode : [0.         0.         0.14606079]\n",
      "\n",
      " Episode end Episode =    3, Time =   5.040 totalscore =  99.229  score =   0.394 (best =   0.394 in Episode    3 ) \n",
      "Episode in progress:  4\n",
      "Ending position for episode : [0.         0.         1.10839155]\n",
      "Ending speed for episode : [0.         0.         0.15876869]\n",
      "\n",
      " Episode end Episode =    4, Time =   5.040 totalscore =  93.411  score =   0.371 (best =   0.394 in Episode    3 ) \n",
      "Episode in progress:  5\n",
      "Ending position for episode : [0.         0.         1.63071766]\n",
      "Ending speed for episode : [0.         0.         0.49605616]\n",
      "\n",
      " Episode end Episode =    5, Time =   5.040 totalscore =  94.776  score =   0.376 (best =   0.394 in Episode    3 ) \n",
      "Episode in progress:  6\n",
      "Ending position for episode : [0.         0.         1.77445798]\n",
      "Ending speed for episode : [0.         0.         0.51142253]\n",
      "\n",
      " Episode end Episode =    6, Time =   5.040 totalscore =  96.732  score =   0.384 (best =   0.394 in Episode    3 ) \n",
      "Episode in progress:  7\n",
      "Ending position for episode : [0.         0.         1.80887211]\n",
      "Ending speed for episode : [0.         0.         0.52368255]\n",
      "\n",
      " Episode end Episode =    7, Time =   5.040 totalscore =  96.712  score =   0.384 (best =   0.394 in Episode    3 ) \n",
      "Episode in progress:  8\n",
      "Ending position for episode : [0.         0.         1.78620296]\n",
      "Ending speed for episode : [0.         0.         0.42090199]\n",
      "\n",
      " Episode end Episode =    8, Time =   5.040 totalscore =  97.032  score =   0.385 (best =   0.394 in Episode    3 ) \n",
      "Episode in progress:  9\n",
      "Ending position for episode : [0.         0.         1.64936718]\n",
      "Ending speed for episode : [0.         0.         0.43881352]\n",
      "\n",
      " Episode end Episode =    9, Time =   5.040 totalscore =  95.580  score =   0.379 (best =   0.394 in Episode    3 ) \n",
      "Episode in progress:  10\n",
      "Ending position for episode : [0.         0.         1.67984631]\n",
      "Ending speed for episode : [0.         0.         0.40308263]\n",
      "\n",
      " Episode end Episode =   10, Time =   5.040 totalscore =  96.402  score =   0.383 (best =   0.394 in Episode    3 ) \n",
      "Episode in progress:  11\n",
      "Ending position for episode : [0.         0.         1.67708598]\n",
      "Ending speed for episode : [0.         0.         0.41166953]\n",
      "\n",
      " Episode end Episode =   11, Time =   5.040 totalscore =  96.204  score =   0.382 (best =   0.394 in Episode    3 ) \n",
      "Episode in progress:  12\n",
      "Ending position for episode : [0.        0.        1.6524322]\n",
      "Ending speed for episode : [0.         0.         0.44578361]\n",
      "\n",
      " Episode end Episode =   12, Time =   5.040 totalscore =  95.870  score =   0.380 (best =   0.394 in Episode    3 ) \n",
      "Episode in progress:  13\n",
      "Ending position for episode : [0.         0.         2.16964182]\n",
      "Ending speed for episode : [0.         0.         0.66226123]\n",
      "\n",
      " Episode end Episode =   13, Time =   5.040 totalscore =  98.701  score =   0.392 (best =   0.394 in Episode    3 ) \n",
      "Episode in progress:  14\n",
      "Ending position for episode : [0.        0.        1.7047937]\n",
      "Ending speed for episode : [0.         0.         0.38513158]\n",
      "\n",
      " Episode end Episode =   14, Time =   5.040 totalscore =  96.511  score =   0.383 (best =   0.394 in Episode    3 ) \n",
      "Episode in progress:  15\n",
      "Ending position for episode : [0.         0.         1.59886885]\n",
      "Ending speed for episode : [0.         0.         0.37444119]\n",
      "\n",
      " Episode end Episode =   15, Time =   5.040 totalscore =  95.509  score =   0.379 (best =   0.394 in Episode    3 ) \n",
      "Episode in progress:  16\n",
      "Ending position for episode : [0.         0.         1.61914716]\n",
      "Ending speed for episode : [0.         0.         0.37250971]\n",
      "\n",
      " Episode end Episode =   16, Time =   5.040 totalscore =  95.810  score =   0.380 (best =   0.394 in Episode    3 ) \n",
      "Episode in progress:  17\n",
      "Ending position for episode : [0.         0.         1.64192933]\n",
      "Ending speed for episode : [0.         0.         0.52245104]\n",
      "\n",
      " Episode end Episode =   17, Time =   5.040 totalscore =  95.715  score =   0.380 (best =   0.394 in Episode    3 ) \n",
      "Episode in progress:  18\n",
      "Ending position for episode : [0.         0.         1.81365715]\n",
      "Ending speed for episode : [0.         0.         0.40604315]\n",
      "\n",
      " Episode end Episode =   18, Time =   5.040 totalscore =  98.057  score =   0.389 (best =   0.394 in Episode    3 ) \n",
      "Episode in progress:  19\n",
      "Ending position for episode : [0.         0.         1.96615105]\n",
      "Ending speed for episode : [0.         0.         0.67090196]\n",
      "\n",
      " Episode end Episode =   19, Time =   5.040 totalscore =  97.363  score =   0.386 (best =   0.394 in Episode    3 ) \n",
      "Episode in progress:  20\n",
      "Ending position for episode : [0.         0.         1.95210895]\n",
      "Ending speed for episode : [0.         0.         0.40599652]\n",
      "\n",
      " Episode end Episode =   20, Time =   5.040 totalscore =  99.217  score =   0.394 (best =   0.394 in Episode    3 ) \n",
      "Episode in progress:  21\n",
      "Ending position for episode : [0.         0.         1.62111609]\n",
      "Ending speed for episode : [0.         0.         0.44991607]\n",
      "\n",
      " Episode end Episode =   21, Time =   5.040 totalscore =  96.165  score =   0.382 (best =   0.394 in Episode    3 ) \n",
      "Episode in progress:  22\n",
      "Ending position for episode : [0.         0.         1.83158143]\n",
      "Ending speed for episode : [0.         0.         0.46639288]\n",
      "\n",
      " Episode end Episode =   22, Time =   5.040 totalscore =  98.427  score =   0.391 (best =   0.394 in Episode    3 ) \n",
      "Episode in progress:  23\n",
      "Ending position for episode : [0.        0.        2.1557313]\n",
      "Ending speed for episode : [0.         0.         0.62732807]\n",
      "\n",
      " Episode end Episode =   23, Time =   5.040 totalscore =  99.783  score =   0.396 (best =   0.396 in Episode   23 ) \n",
      "Episode in progress:  24\n",
      "Ending position for episode : [0.        0.        3.1093291]\n",
      "Ending speed for episode : [0.         0.         1.15806632]\n",
      "\n",
      " Episode end Episode =   24, Time =   5.040 totalscore = 104.903  score =   0.416 (best =   0.416 in Episode   24 ) \n",
      "Episode in progress:  25\n",
      "Ending position for episode : [0.         0.         2.71627611]\n",
      "Ending speed for episode : [0.        0.        0.8955711]\n",
      "\n",
      " Episode end Episode =   25, Time =   5.040 totalscore = 103.601  score =   0.411 (best =   0.416 in Episode   24 ) \n",
      "Episode in progress:  26\n",
      "Ending position for episode : [0.         0.         3.91448688]\n",
      "Ending speed for episode : [0.         0.         1.47798309]\n",
      "\n",
      " Episode end Episode =   26, Time =   5.040 totalscore = 109.678  score =   0.435 (best =   0.435 in Episode   26 ) \n",
      "Episode in progress:  27\n",
      "Ending position for episode : [0.         0.         2.70133609]\n",
      "Ending speed for episode : [0.         0.         0.84492582]\n",
      "\n",
      " Episode end Episode =   27, Time =   5.040 totalscore = 103.492  score =   0.411 (best =   0.435 in Episode   26 ) \n",
      "Episode in progress:  28\n",
      "Ending position for episode : [0.         0.         2.50861587]\n",
      "Ending speed for episode : [0.         0.         0.75458045]\n",
      "\n",
      " Episode end Episode =   28, Time =   5.040 totalscore = 102.394  score =   0.406 (best =   0.435 in Episode   26 ) \n",
      "Episode in progress:  29\n",
      "Ending position for episode : [0.         0.         3.01531947]\n",
      "Ending speed for episode : [0.         0.         0.96433423]\n",
      "\n",
      " Episode end Episode =   29, Time =   5.040 totalscore = 106.122  score =   0.421 (best =   0.435 in Episode   26 ) \n",
      "Episode in progress:  30\n",
      "Ending position for episode : [0.         0.         3.62819506]\n",
      "Ending speed for episode : [0.         0.         1.47001534]\n",
      "\n",
      " Episode end Episode =   30, Time =   5.040 totalscore = 108.921  score =   0.432 (best =   0.435 in Episode   26 ) \n",
      "Episode in progress:  31\n",
      "Ending position for episode : [0.        0.        2.8271546]\n",
      "Ending speed for episode : [0.        0.        0.8515894]\n",
      "\n",
      " Episode end Episode =   31, Time =   5.040 totalscore = 105.435  score =   0.418 (best =   0.435 in Episode   26 ) \n",
      "Episode in progress:  32\n",
      "Ending position for episode : [0.         0.         2.33873987]\n",
      "Ending speed for episode : [0.         0.         0.51008088]\n",
      "\n",
      " Episode end Episode =   32, Time =   5.040 totalscore = 103.819  score =   0.412 (best =   0.435 in Episode   26 ) \n",
      "Episode in progress:  33\n",
      "Ending position for episode : [0.         0.         4.11614869]\n",
      "Ending speed for episode : [0.         0.         1.36631384]\n",
      "\n",
      " Episode end Episode =   33, Time =   5.040 totalscore = 115.939  score =   0.460 (best =   0.460 in Episode   33 ) \n",
      "Episode in progress:  34\n",
      "Ending position for episode : [0.         0.         5.61324012]\n",
      "Ending speed for episode : [0.         0.         2.14513958]\n",
      "\n",
      " Episode end Episode =   34, Time =   5.040 totalscore = 126.484  score =   0.502 (best =   0.502 in Episode   34 ) \n",
      "Episode in progress:  35\n",
      "Ending position for episode : [ 0.          0.         14.72362759]\n",
      "Ending speed for episode : [0.         0.         7.18047197]\n",
      "\n",
      " Episode end Episode =   35, Time =   5.040 totalscore = 176.448  score =   0.700 (best =   0.700 in Episode   35 ) \n",
      "Episode in progress:  36\n",
      "Ending position for episode : [ 0.          0.         13.33404762]\n",
      "Ending speed for episode : [0.         0.         6.17990108]\n",
      "\n",
      " Episode end Episode =   36, Time =   5.040 totalscore = 175.139  score =   0.695 (best =   0.700 in Episode   35 ) \n",
      "Episode in progress:  37\n",
      "Ending position for episode : [ 0.          0.         15.96748594]\n",
      "Ending speed for episode : [0.         0.         6.45437858]\n",
      "\n",
      " Episode end Episode =   37, Time =   5.040 totalscore = 197.567  score =   0.784 (best =   0.784 in Episode   37 ) \n",
      "Episode in progress:  38\n",
      "Ending position for episode : [ 0.          0.         13.07816963]\n",
      "Ending speed for episode : [0.         0.         5.11704716]\n",
      "\n",
      " Episode end Episode =   38, Time =   5.040 totalscore = 177.022  score =   0.702 (best =   0.784 in Episode   37 ) \n",
      "Episode in progress:  39\n",
      "Ending position for episode : [ 0.          0.         18.29271084]\n",
      "Ending speed for episode : [0.         0.         8.16631058]\n",
      "\n",
      " Episode end Episode =   39, Time =   5.040 totalscore = 218.165  score =   0.866 (best =   0.866 in Episode   39 ) \n",
      "Episode in progress:  40\n",
      "Ending position for episode : [ 0.          0.         27.02842829]\n",
      "Ending speed for episode : [ 0.          0.         14.82637447]\n",
      "\n",
      " Episode end Episode =   40, Time =   5.040 totalscore = 119.563  score =   0.474 (best =   0.866 in Episode   39 ) \n",
      "Episode in progress:  41\n",
      "Ending position for episode : [ 0.          0.         45.45968629]\n",
      "Ending speed for episode : [ 0.          0.         24.02795257]\n",
      "\n",
      " Episode end Episode =   41, Time =   5.040 totalscore =   8.061  score =   0.032 (best =   0.866 in Episode   39 ) \n",
      "Episode in progress:  42\n",
      "Ending position for episode : [ 0.          0.         43.78646519]\n",
      "Ending speed for episode : [ 0.         0.        24.4924521]\n",
      "\n",
      " Episode end Episode =   42, Time =   5.040 totalscore =  55.577  score =   0.221 (best =   0.866 in Episode   39 ) \n",
      "Episode in progress:  43\n",
      "Ending position for episode : [ 0.          0.         69.27789327]\n",
      "Ending speed for episode : [ 0.          0.         28.06053484]\n",
      "\n",
      " Episode end Episode =   43, Time =   5.040 totalscore = -64.349  score =  -0.255 (best =   0.866 in Episode   39 ) \n",
      "Episode in progress:  44\n",
      "Ending position for episode : [ 0.          0.         47.19609864]\n",
      "Ending speed for episode : [ 0.          0.         19.35209084]\n",
      "\n",
      " Episode end Episode =   44, Time =   5.040 totalscore =  28.793  score =   0.114 (best =   0.866 in Episode   39 ) \n",
      "Episode in progress:  45\n",
      "Ending position for episode : [ 0.          0.         30.88762797]\n",
      "Ending speed for episode : [ 0.         0.        14.6787847]\n",
      "\n",
      " Episode end Episode =   45, Time =   5.040 totalscore = 121.140  score =   0.481 (best =   0.866 in Episode   39 ) \n",
      "Episode in progress:  46\n",
      "Ending position for episode : [ 0.         0.        24.5224316]\n",
      "Ending speed for episode : [0.         0.         8.64980722]\n",
      "\n",
      " Episode end Episode =   46, Time =   5.040 totalscore = 221.489  score =   0.879 (best =   0.879 in Episode   46 ) \n",
      "Episode in progress:  47\n",
      "Ending position for episode : [ 0.          0.         24.45761484]\n",
      "Ending speed for episode : [0.         0.         9.49879401]\n",
      "\n",
      " Episode end Episode =   47, Time =   5.040 totalscore = 222.239  score =   0.882 (best =   0.882 in Episode   47 ) \n",
      "Episode in progress:  48\n",
      "Ending position for episode : [ 0.          0.         42.14466296]\n",
      "Ending speed for episode : [ 0.          0.         24.49659584]\n",
      "\n",
      " Episode end Episode =   48, Time =   5.040 totalscore =  38.583  score =   0.153 (best =   0.882 in Episode   47 ) \n",
      "Episode in progress:  49\n",
      "Ending position for episode : [ 0.          0.         15.26161903]\n",
      "Ending speed for episode : [0.         0.         4.88491963]\n",
      "\n",
      " Episode end Episode =   49, Time =   5.040 totalscore = 219.467  score =   0.871 (best =   0.882 in Episode   47 ) \n",
      "Episode in progress:  50\n",
      "Ending position for episode : [ 0.          0.         15.67808701]\n",
      "Ending speed for episode : [0.         0.         5.26297391]\n",
      "\n",
      " Episode end Episode =   50, Time =   5.040 totalscore = 214.290  score =   0.850 (best =   0.882 in Episode   47 ) \n"
     ]
    }
   ],
   "source": [
    "import numpy as np\n",
    "import sys\n",
    "import pandas as pd\n",
    "from agents.agent import DDPG #needs to be amended\n",
    "from tasks.takeoff import Task\n",
    "\n",
    "# Modify the values below to give the quadcopter a different starting and target position.\n",
    "start_pose = np.array([0., 0., 0. , 0., 0., 0.])  # initial pose\n",
    "start_velocities = np.array([0., 0., 0.])         # initial velocities\n",
    "start_angle_velocities = np.array([0., 0., 0.])   # initial angle velocities\n",
    "target_pos = np.array([0., 0., 20])\n",
    "\n",
    "# Reward monitor - Check if agent is learning and whether reward is effective\n",
    "reward_label = ['episode', 'reward']\n",
    "episode_rewards = {x : [] for x in reward_label}\n",
    "best_score = -np.inf\n",
    "best_ep = 0\n",
    "\n",
    "\n",
    "#setup \n",
    "task = Task(init_pose= start_pose ,init_velocities= start_velocities, init_angle_velocities= start_angle_velocities ,runtime= run, target_pos=target_pos) # Create task\n",
    "agent = DDPG(task, gamma, tau, buffer_size, batch_size) # Create Agent and build actor and critic models\n",
    "\n",
    "#simulate\n",
    "for i_episode in range(1, num_episodes+1):\n",
    "    print(\"Episode in progress: \", i_episode)\n",
    "    #print(\"My specified vel is:\", start_velocities)\n",
    "    state = agent.reset_episode() # rest noise and environment to initial conditions\n",
    "    #print(\"Simulation v (x,y,z) :\", task.sim.v)\n",
    "    #print(\"Resetted State (z,  vz) : \",state)\n",
    "    score=0\n",
    "    count=0\n",
    "    while True:\n",
    "        action = agent.act(state) #,max(epsilon,0) #Rotor speeds agent will set as per actor local model +some noise for exploration\n",
    "        #epsilon -= 1/explore\n",
    "        '''\n",
    "        print(\"Position (x,y,z) :\", task.sim.pose[:3])\n",
    "        \n",
    "        print(\"State (z, vx, vy, vz) : \",state)\n",
    "        print(\"Rotor speeds: \",action)\n",
    "        '''\n",
    "        next_state, reward, done = task.step(action)# Simulate rotor speeds to get next state and reward\n",
    "        #print(\"Reward :\", reward)\n",
    "        agent.step(action, reward, next_state, done) #save experience, learn if possible and roll over state\n",
    "        state = next_state\n",
    "        score += reward\n",
    "        count += 1\n",
    "        if done:\n",
    "            #print(\"State (z, vx, vy, vz) : \",state)\n",
    "            ep_score =score/float(count* task.action_repeat) if count > 0 else 0 #average score for episode\n",
    "            if ep_score> best_score:\n",
    "                best_score = ep_score\n",
    "                best_ep = i_episode\n",
    "            print(\"Ending position for episode :\", task.sim.pose[:3])\n",
    "            print(\"Ending speed for episode :\", task.sim.v) \n",
    "            print(\"\\n Episode end Episode = {:4d}, Time = {:7.3f} totalscore = {:7.3f}  score = {:7.3f} (best = {:7.3f} in Episode {:4d} ) \".format(\n",
    "                i_episode,task.sim.time, score,  ep_score,best_score,best_ep), end=\"\\n\")  \n",
    "            break\n",
    "    episode_rewards['episode'].append(i_episode)\n",
    "    episode_rewards['reward'].append(ep_score)\n",
    "    #sys.stdout.flush()"
   ]
  },
  {
   "cell_type": "markdown",
   "metadata": {
    "collapsed": true,
    "deletable": true,
    "editable": true
   },
   "source": [
    "## Plot the Rewards\n",
    "\n",
    "Once you are satisfied with your performance, plot the episode rewards, either from a single run, or averaged over multiple runs. "
   ]
  },
  {
   "cell_type": "code",
   "execution_count": 6,
   "metadata": {
    "collapsed": false,
    "deletable": true,
    "editable": true
   },
   "outputs": [
    {
     "data": {
      "image/png": "[encoded data removed]",
      "text/plain": [
       "<matplotlib.figure.Figure at 0x1f49c2a9ba8>"
      ]
     },
     "metadata": {},
     "output_type": "display_data"
    }
   ],
   "source": [
    "import matplotlib.pyplot as plt\n",
    "%matplotlib inline\n",
    "\n",
    "plt.plot(episode_rewards['episode'], episode_rewards['reward'], label='reward')\n",
    "plt.legend()\n",
    "_ = plt.ylim()"
   ]
  },
  {
   "cell_type": "code",
   "execution_count": 9,
   "metadata": {
    "collapsed": false,
    "deletable": true,
    "editable": true
   },
   "outputs": [
    {
     "name": "stdout",
     "output_type": "stream",
     "text": [
      "The autoreload extension is already loaded. To reload it, use:\n",
      "  %reload_ext autoreload\n",
      "Ending position for episode : [ 0.          0.         25.51162951]\n",
      "Ending speed for episode : [0.         0.         7.45285237]\n",
      "\n",
      " Episode end Episode =   50, Time =   5.040 totalscore = -95.760  score =  -0.380  \n"
     ]
    }
   ],
   "source": [
    "%load_ext autoreload\n",
    "%autoreload 2\n",
    "\n",
    "# Modify the values below to give the quadcopter a different starting and target position.\n",
    "runtime = 5.                                     # time limit of the episode\n",
    "init_pose = np.array([0., 0., 0. , 0., 0., 0.])  # initial pose\n",
    "init_velocities = np.array([0., 0., 0.])         # initial velocities\n",
    "init_angle_velocities = np.array([0., 0., 0.])   # initial angle velocities\n",
    "target_pos = np.array([0., 0., 20.])\n",
    "file_output = 'data.txt'                         # file name for saved results\n",
    "\n",
    "# Monitor quadcopter behaviour\n",
    "quad_label = ['time', 'x', 'y', 'z', 'phi', 'theta', 'psi', 'x_velocity',\n",
    "          'y_velocity', 'z_velocity', 'phi_velocity', 'theta_velocity',\n",
    "          'psi_velocity', 'rotor_speed1']\n",
    "quad = {x : [] for x in quad_label}\n",
    "\n",
    "# Setup\n",
    "task = Task(init_pose, init_velocities, init_angle_velocities, runtime)\n",
    "done = False\n",
    "\n",
    "# Run the simulation, and save the results.\n",
    "state = agent.reset_episode() # start a new episode\n",
    "score=0\n",
    "count=0\n",
    "while True:\n",
    "    rotor_speeds = agent.act(state)\n",
    "    next_state, reward, done = task.step(action)\n",
    "    to_write = [task.sim.time] + list(task.sim.pose) + list(task.sim.v) + list(task.sim.angular_v) + list(rotor_speeds)\n",
    "    for ii in range(len(quad_label)):\n",
    "        quad[quad_label[ii]].append(to_write[ii])\n",
    "    state = next_state\n",
    "    score += reward\n",
    "    count += 1\n",
    "    if done:\n",
    "        ep_score =score/float(count* task.action_repeat) if count > 0 else 0 #average score for episode\n",
    "        print(\"Ending position for episode :\", task.sim.pose[:3])\n",
    "        print(\"Ending speed for episode :\", task.sim.v) \n",
    "        print(\"\\n Episode end Episode = {:4d}, Time = {:7.3f} totalscore = {:7.3f}  score = {:7.3f}  \".format(\n",
    "                i_episode,task.sim.time, score,  ep_score), end=\"\\n\")  \n",
    "        break"
   ]
  },
  {
   "cell_type": "code",
   "execution_count": 10,
   "metadata": {
    "collapsed": false,
    "deletable": true,
    "editable": true
   },
   "outputs": [
    {
     "name": "stdout",
     "output_type": "stream",
     "text": [
      "Position of quad in x, y and z Axes\n"
     ]
    },
    {
     "data": {
      "image/png": "[encoded data removed]",
      "text/plain": [
       "<matplotlib.figure.Figure at 0x1f49c0ce7b8>"
      ]
     },
     "metadata": {},
     "output_type": "display_data"
    }
   ],
   "source": [
    "import matplotlib.pyplot as plt\n",
    "%matplotlib inline\n",
    "# rotor positions in x,y and z axes\n",
    "print('Position of quad in x, y and z Axes')\n",
    "plt.plot(quad['time'], quad['x'], label='x')\n",
    "plt.plot(quad['time'], quad['y'], label='y')\n",
    "plt.plot(quad['time'], quad['z'], label='z')\n",
    "plt.legend()\n",
    "_ = plt.ylim()"
   ]
  },
  {
   "cell_type": "code",
   "execution_count": 11,
   "metadata": {
    "collapsed": false,
    "deletable": true,
    "editable": true
   },
   "outputs": [
    {
     "name": "stdout",
     "output_type": "stream",
     "text": [
      "Velocity of rotor in x, y and z Axes\n"
     ]
    },
    {
     "data": {
      "image/png": "[encoded data removed]",
      "text/plain": [
       "<matplotlib.figure.Figure at 0x1f4a96b17b8>"
      ]
     },
     "metadata": {},
     "output_type": "display_data"
    }
   ],
   "source": [
    "# rotor Velocity in x,y and z axes\n",
    "print('Velocity of rotor in x, y and z Axes')\n",
    "plt.plot(quad['time'], quad['x_velocity'], label='x_hat')\n",
    "plt.plot(quad['time'], quad['y_velocity'], label='y_hat')\n",
    "plt.plot(quad['time'], quad['z_velocity'], label='z_hat')\n",
    "plt.legend()\n",
    "_ = plt.ylim()"
   ]
  },
  {
   "cell_type": "code",
   "execution_count": 12,
   "metadata": {
    "collapsed": false,
    "deletable": true,
    "editable": true
   },
   "outputs": [
    {
     "name": "stdout",
     "output_type": "stream",
     "text": [
      "Euler Angles of rotor\n"
     ]
    },
    {
     "data": {
      "image/png": "[encoded data removed]",
      "text/plain": [
       "<matplotlib.figure.Figure at 0x1f4a96b15f8>"
      ]
     },
     "metadata": {},
     "output_type": "display_data"
    }
   ],
   "source": [
    "# Euler angles of rotor\n",
    "print('Euler Angles of rotor')\n",
    "plt.plot(quad['time'], quad['phi'], label='phi')\n",
    "plt.plot(quad['time'], quad['theta'], label='theta')\n",
    "plt.plot(quad['time'], quad['psi'], label='psi')\n",
    "plt.legend()\n",
    "_ = plt.ylim()"
   ]
  },
  {
   "cell_type": "code",
   "execution_count": 13,
   "metadata": {
    "collapsed": false,
    "deletable": true,
    "editable": true
   },
   "outputs": [
    {
     "name": "stdout",
     "output_type": "stream",
     "text": [
      "Angular velocity of rotor\n"
     ]
    },
    {
     "data": {
      "image/png": "[encoded data removed]",
      "text/plain": [
       "<matplotlib.figure.Figure at 0x1f4a94d9b00>"
      ]
     },
     "metadata": {},
     "output_type": "display_data"
    }
   ],
   "source": [
    "# Angular velocity of rotor\n",
    "print('Angular velocity of rotor')\n",
    "plt.plot(quad['time'], quad['phi_velocity'], label='phi_velocity')\n",
    "plt.plot(quad['time'], quad['theta_velocity'], label='theta_velocity')\n",
    "plt.plot(quad['time'], quad['psi_velocity'], label='psi_velocity')\n",
    "plt.legend()\n",
    "_ = plt.ylim()"
   ]
  },
  {
   "cell_type": "code",
   "execution_count": 9,
   "metadata": {
    "collapsed": false,
    "deletable": true,
    "editable": true
   },
   "outputs": [
    {
     "name": "stdout",
     "output_type": "stream",
     "text": [
      "Speed of each rotor\n"
     ]
    },
    {
     "data": {
      "image/png": "[encoded data removed]",
      "text/plain": [
       "<matplotlib.figure.Figure at 0x19e27265128>"
      ]
     },
     "metadata": {},
     "output_type": "display_data"
    }
   ],
   "source": [
    "# rotor speeds\n",
    "print('Speed of each rotor')\n",
    "plt.plot(quad['time'], quad['rotor_speed1'], label='Rotor 1-4 revolutions / second')\n",
    "plt.legend()\n",
    "_ = plt.ylim()"
   ]
  },
  {
   "cell_type": "code",
   "execution_count": 14,
   "metadata": {
    "collapsed": false,
    "deletable": true,
    "editable": true
   },
   "outputs": [
    {
     "name": "stdout",
     "output_type": "stream",
     "text": [
      "[ 0.          0.         25.51162951  0.          0.          0.        ]\n",
      "[0.         0.         7.45285237]\n",
      "[0. 0. 0.]\n"
     ]
    }
   ],
   "source": [
    "# the pose, velocity, and angular velocity of the quadcopter at the end of the episode\n",
    "\n",
    "print(task.sim.pose)\n",
    "print(task.sim.v)\n",
    "print(task.sim.angular_v)"
   ]
  },
  {
   "cell_type": "markdown",
   "metadata": {
    "collapsed": true,
    "deletable": true,
    "editable": true
   },
   "source": [
    "## Reflections\n",
    "\n",
    "**Question 1**: Describe the task that you specified in `task.py`.  How did you design the reward function?\n",
    "\n",
    "**Answer**: \n",
    "\n",
    "**Task Definition**  \n",
    "The task i defined involves taking off to a user-specified height,with no movement in the x and y axes as well as no rotation. After a number of iterations with the state space and the action space, I opted to restrict the state space to just 2 variables ( vertical height and vertical velocity) and I reduced the action space from 4 to 1. By restricting all 4 rotors to have the same speed, I would be able to guarantee no movement in the x and y axes as well as no rotation. This also reduced the number of variables and hence facilated the learning process for the agent.\n",
    "\n",
    "\n",
    "**Reward Design**  \n",
    "Initially,my quadcopter did not really want to climb so I had to implement a penalty if the vertical position of the quadcopter was less than the starting position. I also imposed penalties on the quadcopter for hitting the environment bounds.\n",
    "\n",
    "In terms of providing continual reward for each time step, I implemented a sine reward that peaks when the quadcopter is at the target height. On top of providing the agent with a smooth reward function from ground level to 3 times the target height, this function is also convenient as it is bound by one and hence will not lead to exploding gradients.\n",
    "The next step of the reward function was to provide feedback based on whether the quadcopter was moving towards the target height - in this case, I added an incremental reward/penalty based on whether the quadcopter was moving toward its desired position. \n",
    "\n",
    "The quadcopter would almost always overshoot the target position when climbing because of the momentum it built by accelerating from a rest position. To remediate this, the agent was penalised for having a speed greater than half the target height.\n",
    "\n",
    "Finally, I noticed during training that episodes which were closer to the target height were still ending up with lower scores than those that ended up further away.This is most likely due to the previous actions of the agent during the episode. To fully incentivise the agent to be as close to the target height as possible when the episode ends, I added a bonus reward which was maximised when the quadcopter finishes the episode at the targetheight.\n",
    "\n",
    "\n",
    "        "
   ]
  },
  {
   "cell_type": "markdown",
   "metadata": {
    "deletable": true,
    "editable": true
   },
   "source": [
    "**Question 2**: Discuss your agent briefly, using the following questions as a guide:\n",
    "\n",
    "- What learning algorithm(s) did you try? What worked best for you?\n",
    "- What was your final choice of hyperparameters (such as $\\alpha$, $\\gamma$, $\\epsilon$, etc.)?\n",
    "- What neural network architecture did you use (if any)? Specify layers, sizes, activation functions, etc.\n",
    "\n",
    "**Answer**:\n",
    "\n",
    "**Learning Algorithm**  \n",
    "I used the DDPG learning algorithm as it is suitable for continous states and action spaces.\n",
    "The following blog proved to be resourceful in understanding DDPG better and helped me in designing the quadcopter actor and critic: https://yanpanlau.github.io/2016/10/11/Torcs-Keras.html\n",
    "\n",
    "**Hyperparameters**  \n",
    "gamma = 0.99  \n",
    "tau = 0.001\n",
    "mu = 0\n",
    "theta = 0.15\n",
    "sigma = 0.2\n",
    "Actor learning rate: 0.0001  \n",
    "Critic learning rate: 0.001  \n",
    "\n",
    "**Neural Network Architecture**  \n",
    "- Actor:\n",
    "    - Hidden Layer 1: Dense network with 400 units,l2 regularisation with batch normalisation. Layer used relu activation.\n",
    "    - Hidden Layer 2: Dense network with 300 units,l2 regularisation with batch normalisation. Layer used relu activation.\n",
    "    - Output layer (raw_actions): Sigmoid activation as actions have a lower bound of 0.\n",
    "    - Final layer (actions): Scaling of actions to action range.\n",
    "- Critic:\n",
    "    - States:\n",
    "        - 2 hidden layers (dense) with 400 and 300 units respectively, both subject to l2 regularisation with batch normalisation. Relu activation used.\n",
    "    - Actions:\n",
    "        - 2 hidden layers (dense) with 400 and 300 units respectively, both subject to l2 regularisation with batch normalisation. Relu activation used.\n",
    "    - Final Layer:\n",
    "        - Combines States and Actions in single model and uses relu activation."
   ]
  },
  {
   "cell_type": "markdown",
   "metadata": {
    "deletable": true,
    "editable": true
   },
   "source": [
    "**Question 3**: Using the episode rewards plot, discuss how the agent learned over time.\n",
    "\n",
    "- Was it an easy task to learn or hard?\n",
    "    - The max score for an episode is 1.5. The agent was able to achieve a score of 0.7 within the first 35 episodes, which means that it was relatively easy to learn taking off and reaching the target height. The hard part of the episode was to actually hover (or oscillate close to) the target height to earn maximum rewards during the episode and clinch the maximal bonus reward at the end of the episode. This would have required the agent to have developed a very fine control of its speed and acceleration, which it seems not to have mastered.  I capped the number of episodes at 50 the agent would often see its reward fall off a cliff for an extended period and then it would start learning again.\n",
    "  \n",
    "  \n",
    "- Was there a gradual learning curve, or an aha moment?\n",
    "    - The agent would learn gradually and have a number of episodes where its performance would be really good. However, it struggles to maintain the performance over an extended set of episodes with reward cliffs (and subsequent recoveries) being prominent during the course of this project. \n",
    "    \n",
    "    \n",
    "- How good was the final performance of the agent? (e.g. mean rewards over the last 10 episodes)\n",
    "The final score after 50 episodes was 0.850, which was not far off the best score achieved by the agent (0.882). The reward did fluctuate quite a bit over the last 10 episodes ( increasing the number of episodes did not really lead to stabilisatio in learning).\n",
    "\n",
    "**Answer**:"
   ]
  },
  {
   "cell_type": "markdown",
   "metadata": {
    "deletable": true,
    "editable": true
   },
   "source": [
    "**Question 4**: Briefly summarize your experience working on this project. You can use the following prompts for ideas.\n",
    "\n",
    "- What was the hardest part of the project? (e.g. getting started, plotting, specifying the task, etc.)\n",
    "    - The reward design was certainly interesting and time consuming. However, the hardest bit would have to be the fusion of   neural networks with underlying maths of deterministic policy gradients. This created a super agent whose power I was unable to fully understand and harness. This was especially the case when I had to incentivise the agent using a reward function without violating the laws of physics that govern the flight behaviour of the quadcopter.\n",
    "    \n",
    "    \n",
    "- Did you find anything interesting in how the quadcopter or your agent behaved?\n",
    "    - The dropoff/oscillation in the learning of the agent was certainly puzzling. I tried to make my neural network more robust, notably  by adding regularizers and batch normalisation. While this improved learning, it did not fully eliminate the reward cliffs. Any suggestions/advice on this issue would be appeciated.\n",
    "\n"
   ]
  }
 ],
 "metadata": {
  "anaconda-cloud": {},
  "kernelspec": {
   "display_name": "Python [conda env:tensorgpu]",
   "language": "python",
   "name": "conda-env-tensorgpu-py"
  },
  "language_info": {
   "codemirror_mode": {
    "name": "ipython",
    "version": 3
   },
   "file_extension": ".py",
   "mimetype": "text/x-python",
   "name": "python",
   "nbconvert_exporter": "python",
   "pygments_lexer": "ipython3",
   "version": "3.5.3"
  }
 },
 "nbformat": 4,
 "nbformat_minor": 2
}
